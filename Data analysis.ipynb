{
 "cells": [
  {
   "cell_type": "code",
   "execution_count": 1,
   "id": "b6a113b4",
   "metadata": {},
   "outputs": [],
   "source": [
    "import pandas as pd"
   ]
  },
  {
   "cell_type": "code",
   "execution_count": 2,
   "id": "15d620c1",
   "metadata": {},
   "outputs": [
    {
     "data": {
      "text/html": [
       "<div>\n",
       "<style scoped>\n",
       "    .dataframe tbody tr th:only-of-type {\n",
       "        vertical-align: middle;\n",
       "    }\n",
       "\n",
       "    .dataframe tbody tr th {\n",
       "        vertical-align: top;\n",
       "    }\n",
       "\n",
       "    .dataframe thead th {\n",
       "        text-align: right;\n",
       "    }\n",
       "</style>\n",
       "<table border=\"1\" class=\"dataframe\">\n",
       "  <thead>\n",
       "    <tr style=\"text-align: right;\">\n",
       "      <th></th>\n",
       "      <th>user</th>\n",
       "      <th>dt</th>\n",
       "    </tr>\n",
       "  </thead>\n",
       "  <tbody>\n",
       "    <tr>\n",
       "      <th>0</th>\n",
       "      <td>0</td>\n",
       "      <td>12.11.2023</td>\n",
       "    </tr>\n",
       "    <tr>\n",
       "      <th>1</th>\n",
       "      <td>0</td>\n",
       "      <td>13.11.2023</td>\n",
       "    </tr>\n",
       "    <tr>\n",
       "      <th>2</th>\n",
       "      <td>0</td>\n",
       "      <td>14.11.2023</td>\n",
       "    </tr>\n",
       "    <tr>\n",
       "      <th>3</th>\n",
       "      <td>0</td>\n",
       "      <td>16.11.2023</td>\n",
       "    </tr>\n",
       "    <tr>\n",
       "      <th>4</th>\n",
       "      <td>0</td>\n",
       "      <td>17.11.2023</td>\n",
       "    </tr>\n",
       "    <tr>\n",
       "      <th>...</th>\n",
       "      <td>...</td>\n",
       "      <td>...</td>\n",
       "    </tr>\n",
       "    <tr>\n",
       "      <th>52320</th>\n",
       "      <td>1998</td>\n",
       "      <td>26.12.2023</td>\n",
       "    </tr>\n",
       "    <tr>\n",
       "      <th>52321</th>\n",
       "      <td>1998</td>\n",
       "      <td>18.06.2024</td>\n",
       "    </tr>\n",
       "    <tr>\n",
       "      <th>52322</th>\n",
       "      <td>1999</td>\n",
       "      <td>04.06.2023</td>\n",
       "    </tr>\n",
       "    <tr>\n",
       "      <th>52323</th>\n",
       "      <td>1999</td>\n",
       "      <td>14.07.2023</td>\n",
       "    </tr>\n",
       "    <tr>\n",
       "      <th>52324</th>\n",
       "      <td>1999</td>\n",
       "      <td>04.08.2023</td>\n",
       "    </tr>\n",
       "  </tbody>\n",
       "</table>\n",
       "<p>52325 rows × 2 columns</p>\n",
       "</div>"
      ],
      "text/plain": [
       "       user          dt\n",
       "0         0  12.11.2023\n",
       "1         0  13.11.2023\n",
       "2         0  14.11.2023\n",
       "3         0  16.11.2023\n",
       "4         0  17.11.2023\n",
       "...     ...         ...\n",
       "52320  1998  26.12.2023\n",
       "52321  1998  18.06.2024\n",
       "52322  1999  04.06.2023\n",
       "52323  1999  14.07.2023\n",
       "52324  1999  04.08.2023\n",
       "\n",
       "[52325 rows x 2 columns]"
      ]
     },
     "execution_count": 2,
     "metadata": {},
     "output_type": "execute_result"
    }
   ],
   "source": [
    "df = pd.read_csv('https://github.com/Azidalus/Business-metrics-analysis-in-Pandas/blob/main/entries.csv?raw=true')\n",
    "df"
   ]
  },
  {
   "cell_type": "code",
   "execution_count": 3,
   "id": "6e93b352",
   "metadata": {},
   "outputs": [
    {
     "data": {
      "text/html": [
       "<div>\n",
       "<style scoped>\n",
       "    .dataframe tbody tr th:only-of-type {\n",
       "        vertical-align: middle;\n",
       "    }\n",
       "\n",
       "    .dataframe tbody tr th {\n",
       "        vertical-align: top;\n",
       "    }\n",
       "\n",
       "    .dataframe thead th {\n",
       "        text-align: right;\n",
       "    }\n",
       "</style>\n",
       "<table border=\"1\" class=\"dataframe\">\n",
       "  <thead>\n",
       "    <tr style=\"text-align: right;\">\n",
       "      <th></th>\n",
       "      <th>user</th>\n",
       "      <th>dt</th>\n",
       "    </tr>\n",
       "  </thead>\n",
       "  <tbody>\n",
       "    <tr>\n",
       "      <th>0</th>\n",
       "      <td>0</td>\n",
       "      <td>2023-11-12</td>\n",
       "    </tr>\n",
       "    <tr>\n",
       "      <th>1</th>\n",
       "      <td>0</td>\n",
       "      <td>2023-11-13</td>\n",
       "    </tr>\n",
       "    <tr>\n",
       "      <th>2</th>\n",
       "      <td>0</td>\n",
       "      <td>2023-11-14</td>\n",
       "    </tr>\n",
       "    <tr>\n",
       "      <th>3</th>\n",
       "      <td>0</td>\n",
       "      <td>2023-11-16</td>\n",
       "    </tr>\n",
       "    <tr>\n",
       "      <th>4</th>\n",
       "      <td>0</td>\n",
       "      <td>2023-11-17</td>\n",
       "    </tr>\n",
       "  </tbody>\n",
       "</table>\n",
       "</div>"
      ],
      "text/plain": [
       "   user         dt\n",
       "0     0 2023-11-12\n",
       "1     0 2023-11-13\n",
       "2     0 2023-11-14\n",
       "3     0 2023-11-16\n",
       "4     0 2023-11-17"
      ]
     },
     "execution_count": 3,
     "metadata": {},
     "output_type": "execute_result"
    }
   ],
   "source": [
    "# Convert to date format\n",
    "df['dt'] = pd.to_datetime(df['dt'], format='%d.%m.%Y')\n",
    "df.head()"
   ]
  },
  {
   "cell_type": "markdown",
   "id": "4c9b4666",
   "metadata": {},
   "source": [
    "## Q1 - Payback"
   ]
  },
  {
   "cell_type": "markdown",
   "id": "b66be5c8",
   "metadata": {},
   "source": [
    "### Q1.1: Does the total payment for all first subscribtions cover the total cost of acquisition?\n",
    "\n",
    "Let's break down the task: \n",
    "1. Calculate total payment for all first subscriptions\n",
    "    - `Number of payments for first subscription` * `Subscription cost`\n",
    "2. Calculate total cost of acquisition\n",
    "    - `Number of users` * `Acquisition cost`\n",
    "3. Look at the difference between 1. and 2."
   ]
  },
  {
   "cell_type": "markdown",
   "id": "a3bc2317",
   "metadata": {},
   "source": [
    "#### 1. Calculate total payment for first subscription"
   ]
  },
  {
   "cell_type": "code",
   "execution_count": 5,
   "id": "b5e5971f",
   "metadata": {},
   "outputs": [
    {
     "data": {
      "text/html": [
       "<div>\n",
       "<style scoped>\n",
       "    .dataframe tbody tr th:only-of-type {\n",
       "        vertical-align: middle;\n",
       "    }\n",
       "\n",
       "    .dataframe tbody tr th {\n",
       "        vertical-align: top;\n",
       "    }\n",
       "\n",
       "    .dataframe thead th {\n",
       "        text-align: right;\n",
       "    }\n",
       "</style>\n",
       "<table border=\"1\" class=\"dataframe\">\n",
       "  <thead>\n",
       "    <tr style=\"text-align: right;\">\n",
       "      <th></th>\n",
       "      <th>user</th>\n",
       "      <th>dt</th>\n",
       "      <th>reg</th>\n",
       "    </tr>\n",
       "  </thead>\n",
       "  <tbody>\n",
       "    <tr>\n",
       "      <th>0</th>\n",
       "      <td>0</td>\n",
       "      <td>2023-11-12</td>\n",
       "      <td>2023-11-12</td>\n",
       "    </tr>\n",
       "    <tr>\n",
       "      <th>1</th>\n",
       "      <td>0</td>\n",
       "      <td>2023-11-13</td>\n",
       "      <td>2023-11-12</td>\n",
       "    </tr>\n",
       "    <tr>\n",
       "      <th>2</th>\n",
       "      <td>0</td>\n",
       "      <td>2023-11-14</td>\n",
       "      <td>2023-11-12</td>\n",
       "    </tr>\n",
       "    <tr>\n",
       "      <th>3</th>\n",
       "      <td>0</td>\n",
       "      <td>2023-11-16</td>\n",
       "      <td>2023-11-12</td>\n",
       "    </tr>\n",
       "    <tr>\n",
       "      <th>4</th>\n",
       "      <td>0</td>\n",
       "      <td>2023-11-17</td>\n",
       "      <td>2023-11-12</td>\n",
       "    </tr>\n",
       "    <tr>\n",
       "      <th>...</th>\n",
       "      <td>...</td>\n",
       "      <td>...</td>\n",
       "      <td>...</td>\n",
       "    </tr>\n",
       "    <tr>\n",
       "      <th>52320</th>\n",
       "      <td>1998</td>\n",
       "      <td>2023-12-26</td>\n",
       "      <td>2023-07-26</td>\n",
       "    </tr>\n",
       "    <tr>\n",
       "      <th>52321</th>\n",
       "      <td>1998</td>\n",
       "      <td>2024-06-18</td>\n",
       "      <td>2023-07-26</td>\n",
       "    </tr>\n",
       "    <tr>\n",
       "      <th>52322</th>\n",
       "      <td>1999</td>\n",
       "      <td>2023-06-04</td>\n",
       "      <td>2023-06-04</td>\n",
       "    </tr>\n",
       "    <tr>\n",
       "      <th>52323</th>\n",
       "      <td>1999</td>\n",
       "      <td>2023-07-14</td>\n",
       "      <td>2023-06-04</td>\n",
       "    </tr>\n",
       "    <tr>\n",
       "      <th>52324</th>\n",
       "      <td>1999</td>\n",
       "      <td>2023-08-04</td>\n",
       "      <td>2023-06-04</td>\n",
       "    </tr>\n",
       "  </tbody>\n",
       "</table>\n",
       "<p>52325 rows × 3 columns</p>\n",
       "</div>"
      ],
      "text/plain": [
       "       user         dt        reg\n",
       "0         0 2023-11-12 2023-11-12\n",
       "1         0 2023-11-13 2023-11-12\n",
       "2         0 2023-11-14 2023-11-12\n",
       "3         0 2023-11-16 2023-11-12\n",
       "4         0 2023-11-17 2023-11-12\n",
       "...     ...        ...        ...\n",
       "52320  1998 2023-12-26 2023-07-26\n",
       "52321  1998 2024-06-18 2023-07-26\n",
       "52322  1999 2023-06-04 2023-06-04\n",
       "52323  1999 2023-07-14 2023-06-04\n",
       "52324  1999 2023-08-04 2023-06-04\n",
       "\n",
       "[52325 rows x 3 columns]"
      ]
     },
     "execution_count": 5,
     "metadata": {},
     "output_type": "execute_result"
    }
   ],
   "source": [
    "# Create column with registrtation date\n",
    "df['reg'] = df.groupby('user')['dt'].transform('min')\n",
    "df"
   ]
  },
  {
   "cell_type": "code",
   "execution_count": 6,
   "id": "defb501d",
   "metadata": {},
   "outputs": [
    {
     "data": {
      "text/html": [
       "<div>\n",
       "<style scoped>\n",
       "    .dataframe tbody tr th:only-of-type {\n",
       "        vertical-align: middle;\n",
       "    }\n",
       "\n",
       "    .dataframe tbody tr th {\n",
       "        vertical-align: top;\n",
       "    }\n",
       "\n",
       "    .dataframe thead th {\n",
       "        text-align: right;\n",
       "    }\n",
       "</style>\n",
       "<table border=\"1\" class=\"dataframe\">\n",
       "  <thead>\n",
       "    <tr style=\"text-align: right;\">\n",
       "      <th></th>\n",
       "      <th>user</th>\n",
       "      <th>dt</th>\n",
       "      <th>reg</th>\n",
       "      <th>diff</th>\n",
       "    </tr>\n",
       "  </thead>\n",
       "  <tbody>\n",
       "    <tr>\n",
       "      <th>0</th>\n",
       "      <td>0</td>\n",
       "      <td>2023-11-12</td>\n",
       "      <td>2023-11-12</td>\n",
       "      <td>0</td>\n",
       "    </tr>\n",
       "    <tr>\n",
       "      <th>1</th>\n",
       "      <td>0</td>\n",
       "      <td>2023-11-13</td>\n",
       "      <td>2023-11-12</td>\n",
       "      <td>1</td>\n",
       "    </tr>\n",
       "    <tr>\n",
       "      <th>2</th>\n",
       "      <td>0</td>\n",
       "      <td>2023-11-14</td>\n",
       "      <td>2023-11-12</td>\n",
       "      <td>2</td>\n",
       "    </tr>\n",
       "    <tr>\n",
       "      <th>3</th>\n",
       "      <td>0</td>\n",
       "      <td>2023-11-16</td>\n",
       "      <td>2023-11-12</td>\n",
       "      <td>4</td>\n",
       "    </tr>\n",
       "    <tr>\n",
       "      <th>4</th>\n",
       "      <td>0</td>\n",
       "      <td>2023-11-17</td>\n",
       "      <td>2023-11-12</td>\n",
       "      <td>5</td>\n",
       "    </tr>\n",
       "    <tr>\n",
       "      <th>...</th>\n",
       "      <td>...</td>\n",
       "      <td>...</td>\n",
       "      <td>...</td>\n",
       "      <td>...</td>\n",
       "    </tr>\n",
       "    <tr>\n",
       "      <th>52320</th>\n",
       "      <td>1998</td>\n",
       "      <td>2023-12-26</td>\n",
       "      <td>2023-07-26</td>\n",
       "      <td>153</td>\n",
       "    </tr>\n",
       "    <tr>\n",
       "      <th>52321</th>\n",
       "      <td>1998</td>\n",
       "      <td>2024-06-18</td>\n",
       "      <td>2023-07-26</td>\n",
       "      <td>328</td>\n",
       "    </tr>\n",
       "    <tr>\n",
       "      <th>52322</th>\n",
       "      <td>1999</td>\n",
       "      <td>2023-06-04</td>\n",
       "      <td>2023-06-04</td>\n",
       "      <td>0</td>\n",
       "    </tr>\n",
       "    <tr>\n",
       "      <th>52323</th>\n",
       "      <td>1999</td>\n",
       "      <td>2023-07-14</td>\n",
       "      <td>2023-06-04</td>\n",
       "      <td>40</td>\n",
       "    </tr>\n",
       "    <tr>\n",
       "      <th>52324</th>\n",
       "      <td>1999</td>\n",
       "      <td>2023-08-04</td>\n",
       "      <td>2023-06-04</td>\n",
       "      <td>61</td>\n",
       "    </tr>\n",
       "  </tbody>\n",
       "</table>\n",
       "<p>52325 rows × 4 columns</p>\n",
       "</div>"
      ],
      "text/plain": [
       "       user         dt        reg  diff\n",
       "0         0 2023-11-12 2023-11-12     0\n",
       "1         0 2023-11-13 2023-11-12     1\n",
       "2         0 2023-11-14 2023-11-12     2\n",
       "3         0 2023-11-16 2023-11-12     4\n",
       "4         0 2023-11-17 2023-11-12     5\n",
       "...     ...        ...        ...   ...\n",
       "52320  1998 2023-12-26 2023-07-26   153\n",
       "52321  1998 2024-06-18 2023-07-26   328\n",
       "52322  1999 2023-06-04 2023-06-04     0\n",
       "52323  1999 2023-07-14 2023-06-04    40\n",
       "52324  1999 2023-08-04 2023-06-04    61\n",
       "\n",
       "[52325 rows x 4 columns]"
      ]
     },
     "execution_count": 6,
     "metadata": {},
     "output_type": "execute_result"
    }
   ],
   "source": [
    "# Create a column storing the difference between the registration date and interaction dates\n",
    "df['diff'] = (df['dt'] - df['reg']).dt.days\n",
    "df"
   ]
  },
  {
   "cell_type": "code",
   "execution_count": 57,
   "id": "c7946514",
   "metadata": {},
   "outputs": [
    {
     "data": {
      "text/plain": [
       "19611.9"
      ]
     },
     "execution_count": 57,
     "metadata": {},
     "output_type": "execute_result"
    }
   ],
   "source": [
    "Revenue = df[df['diff'] > 14]['user'].nunique() * 9.9\n",
    "Revenue"
   ]
  },
  {
   "cell_type": "markdown",
   "id": "390507b5",
   "metadata": {},
   "source": [
    "#### 2. Calculate total cost of acquisition"
   ]
  },
  {
   "cell_type": "code",
   "execution_count": 63,
   "id": "e9ddc885",
   "metadata": {},
   "outputs": [
    {
     "data": {
      "text/plain": [
       "10000"
      ]
     },
     "execution_count": 63,
     "metadata": {},
     "output_type": "execute_result"
    }
   ],
   "source": [
    "Acquisition = df['user'].nunique() * 5\n",
    "Acquisition"
   ]
  },
  {
   "cell_type": "markdown",
   "id": "c5c3ee74-4184-4272-b121-121c9314ea6e",
   "metadata": {},
   "source": [
    "#### 3. Answer: Revenue covers Acquisition"
   ]
  },
  {
   "cell_type": "markdown",
   "id": "10bc199e-4a78-4294-a5d3-118346831524",
   "metadata": {},
   "source": [
    "### Q1.2 On what day do we start to cover acquisition costs?"
   ]
  },
  {
   "cell_type": "code",
   "execution_count": 64,
   "id": "20756d63-ad4c-46b3-af8f-f733a00cd80e",
   "metadata": {},
   "outputs": [
    {
     "data": {
      "text/plain": [
       "1011"
      ]
     },
     "execution_count": 64,
     "metadata": {},
     "output_type": "execute_result"
    }
   ],
   "source": [
    "from math import ceil\n",
    "\n",
    "# We need the following number of users to cover acquisition costs:\n",
    "ceil(df['user'].nunique() * 5 / 9.9)"
   ]
  },
  {
   "cell_type": "code",
   "execution_count": 62,
   "id": "177f546d-7953-4d9e-acc9-2c103c0af585",
   "metadata": {},
   "outputs": [
    {
     "data": {
      "text/plain": [
       "1836    16\n",
       "Name: min_diff, dtype: int64"
      ]
     },
     "execution_count": 62,
     "metadata": {},
     "output_type": "execute_result"
    }
   ],
   "source": [
    "(\n",
    "    df[df['diff'] >= 14]                         # Look only at rows after showing the paywall\n",
    "    .groupby('user')                             # Make a df consisting of a user and their minimal date they showed up in df\n",
    "    .agg(min_diff=('diff', 'min'))\n",
    "    .reset_index()\n",
    "    .sort_values('min_diff')                     # Sort it by that minimal date \n",
    "    .head(ceil(df['user'].nunique() * 5 / 9.9))  # Take exactly the number of users that is needed to cover acquisition costs\n",
    "    .tail(1)                                     # Look at the minimal date field in the last record\n",
    "    ['min_diff']\n",
    ")"
   ]
  },
  {
   "cell_type": "markdown",
   "id": "4beb944d-86a2-436d-ad3f-e1107545c815",
   "metadata": {},
   "source": [
    "  "
   ]
  },
  {
   "cell_type": "markdown",
   "id": "e0c4dbae",
   "metadata": {},
   "source": [
    "## Q2 - Percentage of buyers"
   ]
  },
  {
   "cell_type": "markdown",
   "id": "8a37f33f",
   "metadata": {},
   "source": [
    "### Q2.1 What percentage of users buy the subscription immediately on day 14?"
   ]
  },
  {
   "cell_type": "code",
   "execution_count": 53,
   "id": "726b89da",
   "metadata": {},
   "outputs": [
    {
     "name": "stdout",
     "output_type": "stream",
     "text": [
      "25.0 %\n"
     ]
    }
   ],
   "source": [
    "print(df[df['diff'] == 14]['user'].nunique() / df['user'].nunique() * 100, '%')"
   ]
  },
  {
   "cell_type": "markdown",
   "id": "44859a1a-8bde-47dc-868b-4c249984a039",
   "metadata": {},
   "source": [
    "### Q2.2 What percentage of users buy the subscription later?"
   ]
  },
  {
   "cell_type": "code",
   "execution_count": 22,
   "id": "487ee957-14cc-4d0b-959a-0ec1971b5575",
   "metadata": {},
   "outputs": [
    {
     "name": "stdout",
     "output_type": "stream",
     "text": [
      "74.05000000000001 %\n"
     ]
    }
   ],
   "source": [
    "print((df[df['diff'] > 14]['user'].nunique() - df[df['diff'] == 14]['user'].nunique()) / df['user'].nunique()*100, '%')"
   ]
  },
  {
   "cell_type": "markdown",
   "id": "bbed6d1e-41b7-4ec0-bdae-46045dd9f995",
   "metadata": {},
   "source": [
    "  "
   ]
  },
  {
   "cell_type": "markdown",
   "id": "f6fa17ad-74c8-4c0b-b1af-be79c332ddf7",
   "metadata": {},
   "source": [
    "## Q3 - n-day retention"
   ]
  },
  {
   "cell_type": "markdown",
   "id": "1e6961e2-4bda-462a-a78b-0ebbd4d5bfb0",
   "metadata": {},
   "source": [
    "### Q3.1 By how many percentage points does n-day retention drop after showing the paywall?"
   ]
  },
  {
   "cell_type": "code",
   "execution_count": 24,
   "id": "0e4e1268-38b1-41f6-b39c-ffba73e58819",
   "metadata": {},
   "outputs": [
    {
     "data": {
      "text/html": [
       "<div>\n",
       "<style scoped>\n",
       "    .dataframe tbody tr th:only-of-type {\n",
       "        vertical-align: middle;\n",
       "    }\n",
       "\n",
       "    .dataframe tbody tr th {\n",
       "        vertical-align: top;\n",
       "    }\n",
       "\n",
       "    .dataframe thead th {\n",
       "        text-align: right;\n",
       "    }\n",
       "</style>\n",
       "<table border=\"1\" class=\"dataframe\">\n",
       "  <thead>\n",
       "    <tr style=\"text-align: right;\">\n",
       "      <th></th>\n",
       "      <th>user</th>\n",
       "      <th>dt</th>\n",
       "      <th>reg</th>\n",
       "      <th>diff</th>\n",
       "    </tr>\n",
       "  </thead>\n",
       "  <tbody>\n",
       "    <tr>\n",
       "      <th>0</th>\n",
       "      <td>0</td>\n",
       "      <td>2023-11-12</td>\n",
       "      <td>2023-11-12</td>\n",
       "      <td>0</td>\n",
       "    </tr>\n",
       "    <tr>\n",
       "      <th>1</th>\n",
       "      <td>0</td>\n",
       "      <td>2023-11-13</td>\n",
       "      <td>2023-11-12</td>\n",
       "      <td>1</td>\n",
       "    </tr>\n",
       "    <tr>\n",
       "      <th>2</th>\n",
       "      <td>0</td>\n",
       "      <td>2023-11-14</td>\n",
       "      <td>2023-11-12</td>\n",
       "      <td>2</td>\n",
       "    </tr>\n",
       "    <tr>\n",
       "      <th>3</th>\n",
       "      <td>0</td>\n",
       "      <td>2023-11-16</td>\n",
       "      <td>2023-11-12</td>\n",
       "      <td>4</td>\n",
       "    </tr>\n",
       "    <tr>\n",
       "      <th>4</th>\n",
       "      <td>0</td>\n",
       "      <td>2023-11-17</td>\n",
       "      <td>2023-11-12</td>\n",
       "      <td>5</td>\n",
       "    </tr>\n",
       "  </tbody>\n",
       "</table>\n",
       "</div>"
      ],
      "text/plain": [
       "   user         dt        reg  diff\n",
       "0     0 2023-11-12 2023-11-12     0\n",
       "1     0 2023-11-13 2023-11-12     1\n",
       "2     0 2023-11-14 2023-11-12     2\n",
       "3     0 2023-11-16 2023-11-12     4\n",
       "4     0 2023-11-17 2023-11-12     5"
      ]
     },
     "execution_count": 24,
     "metadata": {},
     "output_type": "execute_result"
    }
   ],
   "source": [
    "df.head()"
   ]
  },
  {
   "cell_type": "markdown",
   "id": "7b4f8b73-0972-48fd-9d40-e94b419ababa",
   "metadata": {},
   "source": [
    "#### 1. Compute n-day retention"
   ]
  },
  {
   "cell_type": "code",
   "execution_count": 13,
   "id": "d721ad05-24a3-4753-b271-0c561d7ed1af",
   "metadata": {},
   "outputs": [
    {
     "data": {
      "text/html": [
       "<div>\n",
       "<style scoped>\n",
       "    .dataframe tbody tr th:only-of-type {\n",
       "        vertical-align: middle;\n",
       "    }\n",
       "\n",
       "    .dataframe tbody tr th {\n",
       "        vertical-align: top;\n",
       "    }\n",
       "\n",
       "    .dataframe thead th {\n",
       "        text-align: right;\n",
       "    }\n",
       "</style>\n",
       "<table border=\"1\" class=\"dataframe\">\n",
       "  <thead>\n",
       "    <tr style=\"text-align: right;\">\n",
       "      <th></th>\n",
       "      <th>diff</th>\n",
       "      <th>unique_users</th>\n",
       "      <th>retention</th>\n",
       "    </tr>\n",
       "  </thead>\n",
       "  <tbody>\n",
       "    <tr>\n",
       "      <th>0</th>\n",
       "      <td>0</td>\n",
       "      <td>2000</td>\n",
       "      <td>100.00</td>\n",
       "    </tr>\n",
       "    <tr>\n",
       "      <th>1</th>\n",
       "      <td>1</td>\n",
       "      <td>1039</td>\n",
       "      <td>51.95</td>\n",
       "    </tr>\n",
       "    <tr>\n",
       "      <th>2</th>\n",
       "      <td>2</td>\n",
       "      <td>1052</td>\n",
       "      <td>52.60</td>\n",
       "    </tr>\n",
       "    <tr>\n",
       "      <th>3</th>\n",
       "      <td>3</td>\n",
       "      <td>1055</td>\n",
       "      <td>52.75</td>\n",
       "    </tr>\n",
       "    <tr>\n",
       "      <th>4</th>\n",
       "      <td>4</td>\n",
       "      <td>1024</td>\n",
       "      <td>51.20</td>\n",
       "    </tr>\n",
       "    <tr>\n",
       "      <th>...</th>\n",
       "      <td>...</td>\n",
       "      <td>...</td>\n",
       "      <td>...</td>\n",
       "    </tr>\n",
       "    <tr>\n",
       "      <th>359</th>\n",
       "      <td>360</td>\n",
       "      <td>6</td>\n",
       "      <td>0.30</td>\n",
       "    </tr>\n",
       "    <tr>\n",
       "      <th>360</th>\n",
       "      <td>361</td>\n",
       "      <td>5</td>\n",
       "      <td>0.25</td>\n",
       "    </tr>\n",
       "    <tr>\n",
       "      <th>361</th>\n",
       "      <td>362</td>\n",
       "      <td>3</td>\n",
       "      <td>0.15</td>\n",
       "    </tr>\n",
       "    <tr>\n",
       "      <th>362</th>\n",
       "      <td>363</td>\n",
       "      <td>9</td>\n",
       "      <td>0.45</td>\n",
       "    </tr>\n",
       "    <tr>\n",
       "      <th>363</th>\n",
       "      <td>364</td>\n",
       "      <td>2</td>\n",
       "      <td>0.10</td>\n",
       "    </tr>\n",
       "  </tbody>\n",
       "</table>\n",
       "<p>364 rows × 3 columns</p>\n",
       "</div>"
      ],
      "text/plain": [
       "     diff  unique_users  retention\n",
       "0       0          2000     100.00\n",
       "1       1          1039      51.95\n",
       "2       2          1052      52.60\n",
       "3       3          1055      52.75\n",
       "4       4          1024      51.20\n",
       "..    ...           ...        ...\n",
       "359   360             6       0.30\n",
       "360   361             5       0.25\n",
       "361   362             3       0.15\n",
       "362   363             9       0.45\n",
       "363   364             2       0.10\n",
       "\n",
       "[364 rows x 3 columns]"
      ]
     },
     "execution_count": 13,
     "metadata": {},
     "output_type": "execute_result"
    }
   ],
   "source": [
    "retention_df = (\n",
    "    df\n",
    "    .groupby('diff')\n",
    "    .agg(unique_users=('user','count'))\n",
    "    .reset_index()\n",
    ")\n",
    "\n",
    "retention_df['retention'] = retention_df['unique_users'] / retention_df.loc[0,'unique_users'] * 100\n",
    "retention_df"
   ]
  },
  {
   "cell_type": "markdown",
   "id": "ae95c73f-ebfb-47c0-8631-e27bf251deca",
   "metadata": {},
   "source": [
    "#### 2. Calculate the difference in retention"
   ]
  },
  {
   "cell_type": "code",
   "execution_count": 14,
   "id": "80a070d0-9e8d-4ba6-a453-227ade1271ac",
   "metadata": {},
   "outputs": [
    {
     "data": {
      "text/plain": [
       "13    43.0\n",
       "14    25.0\n",
       "Name: retention, dtype: float64"
      ]
     },
     "execution_count": 14,
     "metadata": {},
     "output_type": "execute_result"
    }
   ],
   "source": [
    "retention_df.loc[13:14,'retention']"
   ]
  },
  {
   "cell_type": "code",
   "execution_count": 26,
   "id": "3442f86a-1e01-4e32-bdd3-3291bccd36aa",
   "metadata": {},
   "outputs": [
    {
     "name": "stdout",
     "output_type": "stream",
     "text": [
      "18.0 %\n"
     ]
    }
   ],
   "source": [
    "print(retention_df.loc[13,'retention'] - retention_df.loc[14,'retention'], '%')"
   ]
  },
  {
   "cell_type": "markdown",
   "id": "f51cd09b-33f4-4a67-b222-fca069d63388",
   "metadata": {},
   "source": [
    "### Q3.2 On what day is the peak value of n-day retention observed after showing the paywall?"
   ]
  },
  {
   "cell_type": "code",
   "execution_count": 39,
   "id": "937c6a59-7b65-4d45-89ab-902b04a5f731",
   "metadata": {},
   "outputs": [
    {
     "data": {
      "text/plain": [
       "diff             16.0\n",
       "unique_users    518.0\n",
       "retention        25.9\n",
       "Name: 16, dtype: float64"
      ]
     },
     "execution_count": 39,
     "metadata": {},
     "output_type": "execute_result"
    }
   ],
   "source": [
    "retention_df[14:].iloc[retention_df[14:]['retention'].argmax()]"
   ]
  }
 ],
 "metadata": {
  "kernelspec": {
   "display_name": "Python 3 (ipykernel)",
   "language": "python",
   "name": "python3"
  },
  "language_info": {
   "codemirror_mode": {
    "name": "ipython",
    "version": 3
   },
   "file_extension": ".py",
   "mimetype": "text/x-python",
   "name": "python",
   "nbconvert_exporter": "python",
   "pygments_lexer": "ipython3",
   "version": "3.7.5"
  }
 },
 "nbformat": 4,
 "nbformat_minor": 5
}
